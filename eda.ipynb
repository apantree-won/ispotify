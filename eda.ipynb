{
 "cells": [
  {
   "cell_type": "code",
   "execution_count": null,
   "metadata": {},
   "outputs": [],
   "source": [
    "import pandas as pd\n",
    "\n",
    "df = pd.read_csv(r'....csv')\n",
    "df"
   ]
  },
  {
   "cell_type": "code",
   "execution_count": null,
   "metadata": {},
   "outputs": [],
   "source": [
    "print(df.info())\n",
    "print(df.describe())"
   ]
  },
  {
   "cell_type": "code",
   "execution_count": null,
   "metadata": {},
   "outputs": [],
   "source": [
    "# change scale\n",
    "\n",
    "df['Tempo'] = (df['Tempo'] - df['Tempo'].min()) / (df['Tempo'].max() - df['Tempo'].min())\n",
    "df['Loudness'] = (df['Loudness'] + 60) / (0 + 60)\n",
    "df"
   ]
  },
  {
   "cell_type": "code",
   "execution_count": null,
   "metadata": {},
   "outputs": [],
   "source": [
    "# Radar Chart\n",
    "\n",
    "import plotly.graph_objects as go\n",
    "\n",
    "fig = go.Figure(data=go.Scatterpolar(\n",
    "    r=[df['Danceability'].median(),df['Energy'].median(),df['Loudness'].median(),\n",
    "      df['Speechiness'].median(),df['Acousticness'].median(),\n",
    "       df['Instrumentalness'].median(),df['Liveness'].median(),df['Valence'].median(),\n",
    "       df['Tempo'].median()],\n",
    "    theta=['Danceability', 'Energy', 'Loudness', 'Speechiness', \n",
    "           'Acousticness', 'Instrumentalness','Liveness', 'Valence', 'Tempo'],\n",
    "  fill='toself'\n",
    "))\n",
    "\n",
    "fig.update_layout(\n",
    "  polar=dict(\n",
    "    radialaxis=dict(\n",
    "      visible=True\n",
    "    ),\n",
    "  ),\n",
    "  showlegend=False\n",
    ")\n",
    "\n",
    "fig.show()"
   ]
  },
  {
   "cell_type": "code",
   "execution_count": null,
   "metadata": {
    "scrolled": false
   },
   "outputs": [],
   "source": [
    "# Box Chart\n",
    "import plotly.graph_objects as go\n",
    "\n",
    "fig = go.Figure()\n",
    "fig.add_trace(go.Box(y=df['Danceability'], name='Danceability'))\n",
    "fig.add_trace(go.Box(y=df['Energy'],name='Energy'))\n",
    "fig.add_trace(go.Box(y=df['Loudness'],name='Loudness'))\n",
    "fig.add_trace(go.Box(y=df['Speechiness'],name='Speechiness'))\n",
    "fig.add_trace(go.Box(y=df['Acousticness'],name='Acousticness'))\n",
    "fig.add_trace(go.Box(y=df['Instrumentalness'],name='Instrumentalness'))\n",
    "fig.add_trace(go.Box(y=df['Liveness'],name='Liveness'))\n",
    "fig.add_trace(go.Box(y=df['Valence'],name='Valence'))\n",
    "fig.add_trace(go.Box(y=df['Tempo'],name='Tempo'))\n",
    "\n",
    "fig.show()"
   ]
  },
  {
   "cell_type": "code",
   "execution_count": null,
   "metadata": {},
   "outputs": [],
   "source": [
    "# Histogram\n",
    "\n",
    "import plotly.graph_objects as go\n",
    "from plotly.subplots import make_subplots\n",
    "import plotly.figure_factory as ff\n",
    "\n",
    "fig = make_subplots(rows=3, cols=3)\n",
    "\n",
    "fig.add_trace(go.Histogram(x=df['Danceability'],name='Danceability',histnorm='density',marker_color='#ffbb9a'),row=1, col=1)\n",
    "fig.add_trace(go.Histogram(x=df['Energy'],name='Energy',histnorm='density',marker_color='#b4a2ae'),row=1, col=2)\n",
    "fig.add_trace(go.Histogram(x=df['Loudness'],name='Loudness',histnorm='density',marker_color='#a2b4a8'),row=1, col=3)\n",
    "fig.add_trace(go.Histogram(x=df['Speechiness'],name='Speechiness',histnorm='density',marker_color='#fabab1'),row=2, col=1)\n",
    "fig.add_trace(go.Histogram(x=df['Acousticness'],name='Acousticness',histnorm='density',marker_color='#b1a79d'),row=2, col=2)\n",
    "fig.add_trace(go.Histogram(x=df['Instrumentalness'],name='Instrumentalness',histnorm='density',marker_color='#7a787d'),row=2, col=3)\n",
    "fig.add_trace(go.Histogram(x=df['Liveness'],name='Liveness',histnorm='density',marker_color='#e6c0bf'),row=3, col=1)\n",
    "fig.add_trace(go.Histogram(x=df['Valence'],name='Valence',histnorm='density',marker_color='#dbac81'),row=3, col=2)\n",
    "fig.add_trace(go.Histogram(x=df['Tempo'],name='Tempo',histnorm='density',marker_color='#bfb0ad'),row=3, col=3)\n",
    "fig.update_layout(height=800, width=800)"
   ]
  }
 ],
 "metadata": {
  "kernelspec": {
   "display_name": "Python 3",
   "language": "python",
   "name": "python3"
  },
  "language_info": {
   "codemirror_mode": {
    "name": "ipython",
    "version": 3
   },
   "file_extension": ".py",
   "mimetype": "text/x-python",
   "name": "python",
   "nbconvert_exporter": "python",
   "pygments_lexer": "ipython3",
   "version": "3.7.7"
  }
 },
 "nbformat": 4,
 "nbformat_minor": 4
}
