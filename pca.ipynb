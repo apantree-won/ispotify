{
 "cells": [
  {
   "cell_type": "code",
   "execution_count": null,
   "metadata": {},
   "outputs": [],
   "source": [
    "#import data\n",
    "\n",
    "import pandas as pd\n",
    "\n",
    "df = pd.read_csv(r'....csv')\n",
    "df"
   ]
  },
  {
   "cell_type": "code",
   "execution_count": null,
   "metadata": {},
   "outputs": [],
   "source": [
    "from sklearn.preprocessing import StandardScaler\n",
    "from sklearn.decomposition import PCA\n",
    "\n",
    "def pca(data, n=2):\n",
    "    \n",
    "#Standardization\n",
    "\n",
    "    features = ['Danceability', 'Energy', 'Loudness', 'Speechiness', 'Acousticness', \n",
    "                    'Instrumentalness','Liveness', 'Valence', 'Tempo']\n",
    "    x = data.loc[:, features].values\n",
    "    x = StandardScaler().fit_transform(x)\n",
    "    pd.DataFrame(data = x, columns = features)\n",
    "\n",
    "    \n",
    "#PCA\n",
    "    model = PCA(n_components=n)\n",
    "    principalComponents = model.fit_transform(x)\n",
    "\n",
    "    pca_df = pd.DataFrame(data = principalComponents ,\n",
    "                                                columns = ['Principal Component 1', \n",
    "                                                                   'Principal Component 2'])\n",
    "    \n",
    "    pca_df['Track']=df['Track']\n",
    "    \n",
    "    return pca_df"
   ]
  }
 ],
 "metadata": {
  "kernelspec": {
   "display_name": "Python 3",
   "language": "python",
   "name": "python3"
  },
  "language_info": {
   "codemirror_mode": {
    "name": "ipython",
    "version": 3
   },
   "file_extension": ".py",
   "mimetype": "text/x-python",
   "name": "python",
   "nbconvert_exporter": "python",
   "pygments_lexer": "ipython3",
   "version": "3.7.7"
  }
 },
 "nbformat": 4,
 "nbformat_minor": 4
}
