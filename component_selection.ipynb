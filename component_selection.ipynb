{
 "cells": [
  {
   "cell_type": "code",
   "execution_count": null,
   "metadata": {},
   "outputs": [],
   "source": [
    "#import data\n",
    "\n",
    "import pandas as pd\n",
    "\n",
    "df = pd.read_csv(r'....csv')\n",
    "df"
   ]
  },
  {
   "cell_type": "code",
   "execution_count": null,
   "metadata": {},
   "outputs": [],
   "source": [
    "import numpy as np\n",
    "from sklearn.preprocessing import StandardScaler\n",
    "from sklearn.decomposition import PCA\n",
    "import plotly.graph_objects as go\n",
    "\n",
    "def component_selection(data, n_features):\n",
    "\n",
    "# Standardization\n",
    "\n",
    "    features = ['Danceability', 'Energy', 'Loudness', 'Speechiness', 'Acousticness', \n",
    "                    'Instrumentalness','Liveness', 'Valence', 'Tempo']\n",
    "    x = data.loc[:, features].values\n",
    "    x = StandardScaler().fit_transform(x)\n",
    "    pd.DataFrame(data = x, columns = features)\n",
    "    \n",
    "    covar_matrix = PCA(n_components = n_features) \n",
    "    covar_matrix.fit(x)\n",
    "    variance = covar_matrix.explained_variance_ratio_\n",
    "    var=np.cumsum(np.round(covar_matrix.explained_variance_ratio_, decimals=3)*100)\n",
    "\n",
    "# Plot Principal Component Selection\n",
    "\n",
    "    fig = go.Figure()\n",
    "\n",
    "    fig.add_trace(\n",
    "        go.Scatter(\n",
    "            x=[1, 2, 3, 4, 5, 6, 7, 8, 9],\n",
    "            y=var,\n",
    "        ))\n",
    "\n",
    "    fig.add_trace(\n",
    "        go.Bar(\n",
    "            x=[1, 2, 3, 4, 5, 6, 7, 8, 9],\n",
    "            y=var\n",
    "        ))\n",
    "\n",
    "    return fig.show()"
   ]
  }
 ],
 "metadata": {
  "kernelspec": {
   "display_name": "myspotify",
   "language": "python",
   "name": "myspotify"
  },
  "language_info": {
   "codemirror_mode": {
    "name": "ipython",
    "version": 3
   },
   "file_extension": ".py",
   "mimetype": "text/x-python",
   "name": "python",
   "nbconvert_exporter": "python",
   "pygments_lexer": "ipython3",
   "version": "3.7.7"
  }
 },
 "nbformat": 4,
 "nbformat_minor": 4
}
